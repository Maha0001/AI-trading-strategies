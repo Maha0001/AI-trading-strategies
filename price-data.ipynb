{
 "cells": [
  {
   "cell_type": "code",
   "execution_count": 1,
   "id": "3fc9d90f-64d3-45a1-8d69-4442d42436af",
   "metadata": {},
   "outputs": [
    {
     "name": "stderr",
     "output_type": "stream",
     "text": [
      "[*********************100%***********************]  1 of 1 completed"
     ]
    },
    {
     "name": "stdout",
     "output_type": "stream",
     "text": [
      "                 Open       High        Low      Close     Volume\n",
      "2020-01-02  74.059998  75.150002  73.797501  75.087502  135480400\n",
      "2020-01-03  74.287498  75.144997  74.125000  74.357498  146322800\n",
      "2020-01-06  73.447502  74.989998  73.187500  74.949997  118387200\n",
      "2020-01-07  74.959999  75.224998  74.370003  74.597504  108872000\n",
      "2020-01-08  74.290001  76.110001  74.290001  75.797501  132079200\n"
     ]
    },
    {
     "name": "stderr",
     "output_type": "stream",
     "text": [
      "\n"
     ]
    }
   ],
   "source": [
    "# import libraries\n",
    "import yfinance as yf\n",
    "import pandas as pd\n",
    "\n",
    "# download historical data for a stock over specific periods\n",
    "ticker = 'AAPL'\n",
    "data = yf.download(ticker, start='2020-01-01', end='2023-01-01')\n",
    "\n",
    "# Convert to single index by using first level of column names only\n",
    "data.columns = data.columns.get_level_values(0)\n",
    "\n",
    "# Convert to single index and select/reorder desired columns\n",
    "data = data[['Open', 'High', 'Low', 'Close', 'Volume']]\n",
    "\n",
    "# Remove the column multi-index\n",
    "data.columns = ['Open', 'High', 'Low', 'Close', 'Volume']\n",
    "\n",
    "# Convert index to date only (removing timestamp)\n",
    "data.index = data.index.date\n",
    "\n",
    "# display the first few rows to inspect the datab\n",
    "print(data.head())"
   ]
  },
  {
   "cell_type": "code",
   "execution_count": 2,
   "id": "93841b16-fb63-4cf4-a422-6f4dcbcb10d9",
   "metadata": {},
   "outputs": [
    {
     "data": {
      "text/plain": [
       "Index(['Open', 'High', 'Low', 'Close', 'Volume'], dtype='object')"
      ]
     },
     "execution_count": 2,
     "metadata": {},
     "output_type": "execute_result"
    }
   ],
   "source": [
    "data.columns"
   ]
  },
  {
   "cell_type": "code",
   "execution_count": 3,
   "id": "dac55a5e-c1ab-48eb-8ecd-c8dccf1a3361",
   "metadata": {},
   "outputs": [
    {
     "name": "stdout",
     "output_type": "stream",
     "text": [
      "                Close     SMA_14     RSI_14  Close_normalized\n",
      "2020-01-23  79.807503  77.628929  71.902570         -1.652277\n",
      "2020-01-24  79.577499  78.001786  75.401481         -1.659801\n",
      "2020-01-27  77.237503  78.165179  59.513444         -1.736356\n",
      "2020-01-28  79.422501  78.509822  67.412481         -1.664872\n",
      "2020-01-29  81.084999  78.887500  68.465163         -1.610483\n",
      "2020-01-30  80.967499  79.141786  63.879136         -1.614327\n",
      "2020-01-31  77.377502  79.127143  49.368860         -1.731776\n",
      "2020-02-03  77.165001  78.978929  42.987505         -1.738728\n",
      "2020-02-04  79.712502  79.089108  54.739602         -1.655385\n",
      "2020-02-05  80.362503  79.269644  57.618700         -1.634120\n",
      "2020-02-06  81.302498  79.447680  57.529076         -1.603367\n",
      "2020-02-07  80.007500  79.470894  50.957282         -1.645734\n",
      "2020-02-10  80.387497  79.559822  53.702040         -1.633302\n",
      "2020-02-11  79.902496  79.593929  51.402949         -1.649169\n",
      "2020-02-12  81.800003  79.736250  55.375694         -1.587091\n",
      "2020-02-13  81.217499  79.853393  54.342070         -1.606148\n",
      "2020-02-14  81.237503  80.139107  62.073647         -1.605493\n",
      "2020-02-18  79.750000  80.162500  51.031981         -1.654158\n",
      "2020-02-19  80.904999  80.149643  49.414062         -1.616372\n",
      "2020-02-20  80.074997  80.085893  47.223514         -1.643526\n"
     ]
    }
   ],
   "source": [
    "# handling missing daa \n",
    "data = data.dropna() # drop rows with missing values\n",
    "\n",
    "# calculate the 14-day SMA and 14-day RSI\n",
    "data['SMA_14'] = data['Close'].rolling(window=14).mean()\n",
    "\n",
    "# RSI calculation\n",
    "delta = data['Close'].diff(1)\n",
    "gain = delta.where(delta > 0, 0)\n",
    "loss = -delta.where(delta < 0, 0)\n",
    "avg_gain = gain.rolling(window=14).mean()\n",
    "avg_loss = loss.rolling(window=14).mean()\n",
    "rs = avg_gain / avg_loss\n",
    "data['RSI_14'] = 100 - (100 / (1 + rs))\n",
    "\n",
    "# Normalize 'Close' price for model compatibility (optional)\n",
    "data['Close_normalized'] = (data['Close'] - data['Close'].mean()) / data['Close'].std()\n",
    "\n",
    "start_index = 14\n",
    "data = data[start_index:]\n",
    "# Display the data with new indicators\n",
    "print(data[['Close', 'SMA_14', 'RSI_14', 'Close_normalized']].head(20))"
   ]
  },
  {
   "cell_type": "code",
   "execution_count": 4,
   "id": "6a221b73-90f4-4d91-9425-058634ad2047",
   "metadata": {},
   "outputs": [
    {
     "name": "stdout",
     "output_type": "stream",
     "text": [
      "Initial Balance: ₹10000\n",
      "Final Balance: ₹8628.465887530288\n",
      "Total Return: ₹-1371.5341124697115\n",
      "Return Percentage: -13.72%\n"
     ]
    }
   ],
   "source": [
    "# Step 1: Initialize variables for backtesting\n",
    "initial_balance = 10000  # Starting with ₹10,000\n",
    "balance = initial_balance\n",
    "position = 0  # Start with no stock position\n",
    "returns = []  # To store returns from each trade\n",
    "\n",
    "# Step 2: Iterate through data to simulate the trading strategy\n",
    "for i in range(1, len(data)):\n",
    "    if data['RSI_14'].iloc[i] < 30 and position == 0:  # Buy condition\n",
    "        # Buy stock\n",
    "        position = balance / data['Close'].iloc[i]\n",
    "        balance = 0  # Invest all balance into stock\n",
    "\n",
    "    elif data['RSI_14'].iloc[i] > 70 and position > 0:  # Sell condition\n",
    "        # Sell stock\n",
    "        balance = position * data['Close'].iloc[i]\n",
    "        position = 0  # No stock position after selling\n",
    "        returns.append(balance - initial_balance)  # Calculate profit or loss\n",
    "\n",
    "# Step 3: Calculate overall performance\n",
    "final_balance = balance if position == 0 else position * data['Close'].iloc[-1]\n",
    "total_return = final_balance - initial_balance\n",
    "\n",
    "# Display results\n",
    "print(f\"Initial Balance: ₹{initial_balance}\")\n",
    "print(f\"Final Balance: ₹{final_balance}\")\n",
    "print(f\"Total Return: ₹{total_return}\")\n",
    "print(f\"Return Percentage: {((final_balance - initial_balance) / initial_balance) * 100:.2f}%\")\n"
   ]
  },
  {
   "cell_type": "code",
   "execution_count": null,
   "id": "f0dc4f21-320b-4dac-b64e-34b57f521424",
   "metadata": {},
   "outputs": [],
   "source": []
  }
 ],
 "metadata": {
  "kernelspec": {
   "display_name": "Python 3 (ipykernel)",
   "language": "python",
   "name": "python3"
  },
  "language_info": {
   "codemirror_mode": {
    "name": "ipython",
    "version": 3
   },
   "file_extension": ".py",
   "mimetype": "text/x-python",
   "name": "python",
   "nbconvert_exporter": "python",
   "pygments_lexer": "ipython3",
   "version": "3.12.7"
  }
 },
 "nbformat": 4,
 "nbformat_minor": 5
}
