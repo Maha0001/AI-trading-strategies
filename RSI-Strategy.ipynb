{
 "cells": [
  {
   "cell_type": "code",
   "execution_count": 55,
   "id": "93e80f79-5073-47ba-a882-c35d755f2611",
   "metadata": {},
   "outputs": [
    {
     "data": {
      "text/html": [
       "<div>\n",
       "<style scoped>\n",
       "    .dataframe tbody tr th:only-of-type {\n",
       "        vertical-align: middle;\n",
       "    }\n",
       "\n",
       "    .dataframe tbody tr th {\n",
       "        vertical-align: top;\n",
       "    }\n",
       "\n",
       "    .dataframe thead th {\n",
       "        text-align: right;\n",
       "    }\n",
       "</style>\n",
       "<table border=\"1\" class=\"dataframe\">\n",
       "  <thead>\n",
       "    <tr style=\"text-align: right;\">\n",
       "      <th></th>\n",
       "      <th>Open</th>\n",
       "      <th>High</th>\n",
       "      <th>Low</th>\n",
       "      <th>Close</th>\n",
       "      <th>Volume</th>\n",
       "    </tr>\n",
       "    <tr>\n",
       "      <th>Date</th>\n",
       "      <th></th>\n",
       "      <th></th>\n",
       "      <th></th>\n",
       "      <th></th>\n",
       "      <th></th>\n",
       "    </tr>\n",
       "  </thead>\n",
       "  <tbody>\n",
       "    <tr>\n",
       "      <th>2024-10-31</th>\n",
       "      <td>1340.0</td>\n",
       "      <td>1343.0</td>\n",
       "      <td>1326.15</td>\n",
       "      <td>1332.05</td>\n",
       "      <td>9331650</td>\n",
       "    </tr>\n",
       "    <tr>\n",
       "      <th>2024-10-30</th>\n",
       "      <td>1335.0</td>\n",
       "      <td>1350.0</td>\n",
       "      <td>1325.35</td>\n",
       "      <td>1343.90</td>\n",
       "      <td>11984423</td>\n",
       "    </tr>\n",
       "    <tr>\n",
       "      <th>2024-10-29</th>\n",
       "      <td>1328.1</td>\n",
       "      <td>1343.2</td>\n",
       "      <td>1320.30</td>\n",
       "      <td>1340.00</td>\n",
       "      <td>12008361</td>\n",
       "    </tr>\n",
       "    <tr>\n",
       "      <th>2024-10-28</th>\n",
       "      <td>1337.0</td>\n",
       "      <td>1353.0</td>\n",
       "      <td>1322.10</td>\n",
       "      <td>1334.35</td>\n",
       "      <td>10824350</td>\n",
       "    </tr>\n",
       "    <tr>\n",
       "      <th>2024-10-25</th>\n",
       "      <td>2687.0</td>\n",
       "      <td>2688.7</td>\n",
       "      <td>2644.00</td>\n",
       "      <td>2655.70</td>\n",
       "      <td>9298748</td>\n",
       "    </tr>\n",
       "  </tbody>\n",
       "</table>\n",
       "</div>"
      ],
      "text/plain": [
       "              Open    High      Low    Close    Volume\n",
       "Date                                                  \n",
       "2024-10-31  1340.0  1343.0  1326.15  1332.05   9331650\n",
       "2024-10-30  1335.0  1350.0  1325.35  1343.90  11984423\n",
       "2024-10-29  1328.1  1343.2  1320.30  1340.00  12008361\n",
       "2024-10-28  1337.0  1353.0  1322.10  1334.35  10824350\n",
       "2024-10-25  2687.0  2688.7  2644.00  2655.70   9298748"
      ]
     },
     "execution_count": 55,
     "metadata": {},
     "output_type": "execute_result"
    }
   ],
   "source": [
    "import pandas as pd\n",
    "\n",
    "# Load the dataset\n",
    "data = pd.read_csv(\"data/Quote-Equity-RELIANCE-EQ-31-10-2023-to-31-10-2024.csv\")\n",
    "\n",
    "\n",
    "# Trim column names by stripping whitespace\n",
    "data.columns = data.columns.str.strip()\n",
    "\n",
    "# Select relevant columns and set 'Date' as the index\n",
    "data = data[['Date', 'OPEN', 'HIGH', 'LOW', 'close', 'VOLUME']].copy()\n",
    "data.set_index('Date', inplace=True)\n",
    "\n",
    "# Rename columns\n",
    "data.rename(columns={'OPEN': 'Open', 'HIGH': 'High', 'LOW': 'Low', 'close': 'Close', 'VOLUME': 'Volume'}, inplace=True)\n",
    "\n",
    "\"\"\"\n",
    "# Remove commas and convert data types\n",
    "data['Open'] = data['Open'].str.replace(',', '').astype(float)\n",
    "data['High'] = data['High'].str.replace(',', '').astype(float)\n",
    "data['Low'] = data['Low'].str.replace(',', '').astype(float)\n",
    "data['Close'] = data['Close'].str.replace(',', '').astype(float)\n",
    "\"\"\"\n",
    "# Remove commas for 'Volume' column and convert to integer\n",
    "data['Volume'] = data['Volume'].str.replace(',', '').astype(int)\n",
    "\n",
    "for col in ['Open', 'High', 'Low', 'Close']:\n",
    "    if data[col].dtype == 'object' and data[col].str.contains(',').any():\n",
    "        data[col] = data[col].str.replace(',', '').astype(float)\n",
    "\n",
    "data.index = pd.to_datetime(data.index).strftime('%Y-%m-%d')\n",
    "\n",
    "# Verify changes\n",
    "data.head()\n"
   ]
  },
  {
   "cell_type": "code",
   "execution_count": 56,
   "id": "41780cef-bff4-4420-81cd-8b30a2a60e00",
   "metadata": {},
   "outputs": [
    {
     "name": "stdout",
     "output_type": "stream",
     "text": [
      "<class 'pandas.core.frame.DataFrame'>\n",
      "Index: 251 entries, 2024-10-31 to 2023-10-31\n",
      "Data columns (total 5 columns):\n",
      " #   Column  Non-Null Count  Dtype  \n",
      "---  ------  --------------  -----  \n",
      " 0   Open    251 non-null    float64\n",
      " 1   High    251 non-null    float64\n",
      " 2   Low     251 non-null    float64\n",
      " 3   Close   251 non-null    float64\n",
      " 4   Volume  251 non-null    int64  \n",
      "dtypes: float64(4), int64(1)\n",
      "memory usage: 11.8+ KB\n"
     ]
    }
   ],
   "source": [
    "data.info()"
   ]
  },
  {
   "cell_type": "code",
   "execution_count": 57,
   "id": "6797aa63-710b-4055-90f4-99db50deae5d",
   "metadata": {},
   "outputs": [
    {
     "data": {
      "text/plain": [
       "(251, 5)"
      ]
     },
     "execution_count": 57,
     "metadata": {},
     "output_type": "execute_result"
    }
   ],
   "source": [
    "data.shape"
   ]
  },
  {
   "cell_type": "code",
   "execution_count": 58,
   "id": "7ee9350d-c992-4377-82e8-76c5809190d2",
   "metadata": {},
   "outputs": [
    {
     "data": {
      "text/plain": [
       "Index(['Open', 'High', 'Low', 'Close', 'Volume'], dtype='object')"
      ]
     },
     "execution_count": 58,
     "metadata": {},
     "output_type": "execute_result"
    }
   ],
   "source": [
    "data.columns"
   ]
  },
  {
   "cell_type": "code",
   "execution_count": 59,
   "id": "da8035b3-a7f9-4761-8cf8-22155a96de26",
   "metadata": {},
   "outputs": [
    {
     "name": "stdout",
     "output_type": "stream",
     "text": [
      "              Close       SMA_14     RSI_14  Close_normalized\n",
      "Date                                                         \n",
      "2024-10-11  2744.20  2412.328571  95.886271         -0.201741\n",
      "2024-10-10  2742.10  2512.200000  95.722695         -0.209041\n",
      "2024-10-09  2749.20  2612.857143  95.986164         -0.184360\n",
      "2024-10-08  2794.70  2717.167857  96.447314         -0.026189\n",
      "2024-10-07  2741.45  2723.292857  64.105938         -0.211301\n",
      "2024-10-04  2773.05  2729.967857  64.992780         -0.101451\n",
      "2024-10-03  2813.95  2739.746429  69.557143          0.040729\n",
      "2024-10-01  2929.65  2757.100000  76.636334          0.442934\n",
      "2024-09-30  2953.15  2772.439286  75.096412          0.524627\n",
      "2024-09-27  3052.35  2796.278571  82.897979          0.869474\n",
      "2024-09-26  2995.90  2816.496429  75.365176          0.673238\n",
      "2024-09-25  2987.90  2836.478571  74.922049          0.645428\n",
      "2024-09-24  2978.75  2857.242857  76.412866          0.613620\n",
      "2024-09-23  2986.75  2874.507143  74.107321          0.641430\n",
      "2024-09-20  2971.85  2890.767857  72.086931          0.589633\n",
      "2024-09-19  2939.35  2904.857143  68.071461          0.476654\n",
      "2024-09-18  2926.90  2917.550000  66.122301          0.433375\n",
      "2024-09-17  2944.60  2928.257143  64.322568          0.494905\n",
      "2024-09-16  2942.70  2942.632143  71.321115          0.488300\n",
      "2024-09-13  2945.25  2954.932143  69.440054          0.497164\n"
     ]
    }
   ],
   "source": [
    "# handling missing daa \n",
    "data = data.dropna() # drop rows with missing values\n",
    "\n",
    "# calculate the 14-day SMA and 14-day RSI\n",
    "data['SMA_14'] = data['Close'].rolling(window=14).mean()\n",
    "\n",
    "# RSI calculation\n",
    "delta = data['Close'].diff(1)\n",
    "gain = delta.where(delta > 0, 0)\n",
    "loss = -delta.where(delta < 0, 0)\n",
    "avg_gain = gain.rolling(window=14).mean()\n",
    "avg_loss = loss.rolling(window=14).mean()\n",
    "rs = avg_gain / avg_loss\n",
    "data['RSI_14'] = 100 - (100 / (1 + rs))\n",
    "\n",
    "# Normalize 'Close' price for model compatibility (optional)\n",
    "data['Close_normalized'] = (data['Close'] - data['Close'].mean()) / data['Close'].std()\n",
    "\n",
    "start_index = 14\n",
    "data = data[start_index:]\n",
    "# Display the data with new indicators\n",
    "print(data[['Close', 'SMA_14', 'RSI_14', 'Close_normalized']].head(20))"
   ]
  },
  {
   "cell_type": "code",
   "execution_count": 60,
   "id": "f0566ad9-34d6-4363-ab22-118435e739d4",
   "metadata": {},
   "outputs": [
    {
     "name": "stdout",
     "output_type": "stream",
     "text": [
      "Initial Balance: ₹10000\n",
      "Final Balance: ₹9020.786383100525\n",
      "Total Return: ₹-979.2136168994748\n",
      "Return Percentage: -9.79%\n"
     ]
    }
   ],
   "source": [
    "# Step 1: Initialize variables for backtesting\n",
    "initial_balance = 10000  # Starting with ₹10,000\n",
    "balance = initial_balance\n",
    "position = 0  # Start with no stock position\n",
    "returns = []  # To store returns from each trade\n",
    "\n",
    "# Step 2: Iterate through data to simulate the trading strategy\n",
    "for i in range(1, len(data)):\n",
    "    if data['RSI_14'].iloc[i] < 30 and position == 0:  # Buy condition\n",
    "        # Buy stock\n",
    "        position = balance / data['Close'].iloc[i]\n",
    "        balance = 0  # Invest all balance into stock\n",
    "\n",
    "    elif data['RSI_14'].iloc[i] > 70 and position > 0:  # Sell condition\n",
    "        # Sell stock\n",
    "        balance = position * data['Close'].iloc[i]\n",
    "        position = 0  # No stock position after selling\n",
    "        returns.append(balance - initial_balance)  # Calculate profit or loss\n",
    "\n",
    "# Step 3: Calculate overall performance\n",
    "final_balance = balance if position == 0 else position * data['Close'].iloc[-1]\n",
    "total_return = final_balance - initial_balance\n",
    "\n",
    "# Display results\n",
    "print(f\"Initial Balance: ₹{initial_balance}\")\n",
    "print(f\"Final Balance: ₹{final_balance}\")\n",
    "print(f\"Total Return: ₹{total_return}\")\n",
    "print(f\"Return Percentage: {((final_balance - initial_balance) / initial_balance) * 100:.2f}%\")\n"
   ]
  },
  {
   "cell_type": "code",
   "execution_count": null,
   "id": "119633d7-b627-4a96-808a-089a36510f7f",
   "metadata": {},
   "outputs": [],
   "source": []
  }
 ],
 "metadata": {
  "kernelspec": {
   "display_name": "Python 3 (ipykernel)",
   "language": "python",
   "name": "python3"
  },
  "language_info": {
   "codemirror_mode": {
    "name": "ipython",
    "version": 3
   },
   "file_extension": ".py",
   "mimetype": "text/x-python",
   "name": "python",
   "nbconvert_exporter": "python",
   "pygments_lexer": "ipython3",
   "version": "3.12.7"
  }
 },
 "nbformat": 4,
 "nbformat_minor": 5
}
