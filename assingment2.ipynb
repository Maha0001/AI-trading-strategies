{
 "cells": [
  {
   "cell_type": "code",
   "execution_count": 10,
   "id": "1e2b0e93-cb71-4716-a749-9716cde6890a",
   "metadata": {},
   "outputs": [],
   "source": [
    "import pandas as pd\n",
    "\n",
    "reliance = pd.read_csv(\"data/Quote-Equity-RELIANCE-EQ-31-10-2023-to-31-10-2024.csv\")\n",
    "infy = pd.read_csv(\"data/Quote-Equity-INFY-EQ-31-10-2023-to-31-10-2024.csv\")\n",
    "tcs = pd.read_csv(\"data/Quote-Equity-TCS-EQ-31-10-2023-to-31-10-2024.csv\")\n",
    "techm = pd.read_csv(\"data/Quote-Equity-TECHM-EQ-31-10-2023-to-31-10-2024.csv\")\n",
    "wipro = pd.read_csv(\"data/Quote-Equity-WIPRO-EQ-31-10-2023-to-31-10-2024.csv\")"
   ]
  },
  {
   "cell_type": "code",
   "execution_count": 12,
   "id": "41808815-9ba7-490b-bc00-50264373ee5d",
   "metadata": {},
   "outputs": [
    {
     "data": {
      "text/plain": [
       "Index(['Date ', 'series ', 'OPEN ', 'HIGH ', 'LOW ', 'PREV. CLOSE ', 'ltp ',\n",
       "       'close ', 'vwap ', '52W H ', '52W L ', 'VOLUME ', 'VALUE ',\n",
       "       'No of trades '],\n",
       "      dtype='object')"
      ]
     },
     "execution_count": 12,
     "metadata": {},
     "output_type": "execute_result"
    }
   ],
   "source": [
    "reliance.columns"
   ]
  },
  {
   "cell_type": "code",
   "execution_count": 13,
   "id": "8292e19e-e5c4-470e-a04e-dbdeca99bcb1",
   "metadata": {},
   "outputs": [
    {
     "name": "stdout",
     "output_type": "stream",
     "text": [
      "<class 'pandas.core.frame.DataFrame'>\n",
      "RangeIndex: 251 entries, 0 to 250\n",
      "Data columns (total 14 columns):\n",
      " #   Column         Non-Null Count  Dtype \n",
      "---  ------         --------------  ----- \n",
      " 0   Date           251 non-null    object\n",
      " 1   series         251 non-null    object\n",
      " 2   OPEN           251 non-null    object\n",
      " 3   HIGH           251 non-null    object\n",
      " 4   LOW            251 non-null    object\n",
      " 5   PREV. CLOSE    251 non-null    object\n",
      " 6   ltp            251 non-null    object\n",
      " 7   close          251 non-null    object\n",
      " 8   vwap           251 non-null    object\n",
      " 9   52W H          251 non-null    object\n",
      " 10  52W L          251 non-null    object\n",
      " 11  VOLUME         251 non-null    object\n",
      " 12  VALUE          251 non-null    object\n",
      " 13  No of trades   251 non-null    object\n",
      "dtypes: object(14)\n",
      "memory usage: 27.6+ KB\n"
     ]
    }
   ],
   "source": [
    "reliance.info()"
   ]
  },
  {
   "cell_type": "markdown",
   "id": "5b6da664-7dce-429b-aea2-8df9b8e1e2cc",
   "metadata": {},
   "source": [
    "set data as index, column need Only close, of each compny and convert to float, set all data set merge data set different column "
   ]
  }
 ],
 "metadata": {
  "kernelspec": {
   "display_name": "Python 3 (ipykernel)",
   "language": "python",
   "name": "python3"
  },
  "language_info": {
   "codemirror_mode": {
    "name": "ipython",
    "version": 3
   },
   "file_extension": ".py",
   "mimetype": "text/x-python",
   "name": "python",
   "nbconvert_exporter": "python",
   "pygments_lexer": "ipython3",
   "version": "3.12.7"
  }
 },
 "nbformat": 4,
 "nbformat_minor": 5
}
